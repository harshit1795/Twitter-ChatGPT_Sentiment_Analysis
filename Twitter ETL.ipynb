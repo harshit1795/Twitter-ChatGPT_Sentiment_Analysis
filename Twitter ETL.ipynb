{
 "cells": [
  {
   "cell_type": "markdown",
   "id": "f755fe83-614e-47e8-80b2-4a501dc6f774",
   "metadata": {
    "tags": []
   },
   "source": [
    "pip install pandas"
   ]
  },
  {
   "cell_type": "markdown",
   "id": "6a75e424-3165-4dc0-894a-12eca5d7be7c",
   "metadata": {
    "tags": []
   },
   "source": [
    "!pip install configparser"
   ]
  },
  {
   "cell_type": "markdown",
   "id": "a3373a0c-62f8-4e79-ae5c-8cb208f4cf28",
   "metadata": {
    "tags": []
   },
   "source": [
    "!pip install tweepy"
   ]
  },
  {
   "cell_type": "markdown",
   "id": "6db96384-eb16-4c27-b9bd-f9f0101531c6",
   "metadata": {
    "tags": []
   },
   "source": [
    "!pip install requests\n",
    "!pip install requests-oauthlib"
   ]
  },
  {
   "cell_type": "markdown",
   "id": "6b3063b5-e3b3-4580-a2db-b32adc43ca48",
   "metadata": {
    "tags": []
   },
   "source": [
    "!pip install --upgrade pip"
   ]
  },
  {
   "cell_type": "markdown",
   "id": "b52a7fc1-3a9b-4964-9802-3a87d230e9bd",
   "metadata": {
    "tags": []
   },
   "source": [
    "pip install python-twitter"
   ]
  },
  {
   "cell_type": "code",
   "execution_count": null,
   "id": "ea336173-ad5d-4a08-b836-07d43e3ed0b4",
   "metadata": {
    "tags": []
   },
   "outputs": [],
   "source": [
    "!pip install s3fs"
   ]
  },
  {
   "cell_type": "code",
   "execution_count": 37,
   "id": "947d7af9-cbad-4f2f-8d9e-f4a20ac6afab",
   "metadata": {
    "tags": []
   },
   "outputs": [],
   "source": [
    "import tweepy\n",
    "import pandas as pd\n",
    "import json\n",
    "from datetime import datetime\n",
    "import s3fs\n",
    "import configparser\n",
    "import csv"
   ]
  },
  {
   "cell_type": "code",
   "execution_count": 38,
   "id": "7469fe8e-c7ca-4b2e-b1ba-8b0fdfbf9680",
   "metadata": {
    "tags": []
   },
   "outputs": [],
   "source": [
    "import tweepy\n",
    "\n",
    "consumer_key = '8h9RZmafGZv1DyZQt11fhocEW'\n",
    "consumer_secret = 'algOMCURBhWpXlZteea2VWH4AYe9lXDkFqRvm6PamJDkozKL0k'\n",
    "access_token = '791917393-t7uoRfcCd4XGUdwI1Jee6ho3L5tBL60czN8nOiBL'\n",
    "access_token_secret = 'iCDoho3YyCmITA4qB8hOBmXpO282oT2OW2ca096eJZtBv'\n",
    "\n"
   ]
  },
  {
   "cell_type": "code",
   "execution_count": 39,
   "id": "a8f80d4f-56f6-4d94-8372-7e7a362e75ad",
   "metadata": {
    "tags": []
   },
   "outputs": [
    {
     "name": "stdout",
     "output_type": "stream",
     "text": [
      "AmazonHelp: @munieru_314 (2/2)適切な選択項目がない場合や、カスタマーサービスに繋がらない場合には、便宜上「アカウントについて＞パスワードについて＞カスタマーサービスへ連絡」を選択のうえご連絡いただき、繋がった担当者に状況の詳細をお伝えいただけますと幸いです。 漆原\n",
      "AmazonHelp: @SadistSophi To better assist you, can you tell us a little more about the concern you're having? We want to help a… https://t.co/JSE8WfJgK7\n",
      "AmazonHelp: @munieru_314 (1/2)失礼します、Amazonです。誤配によりご迷惑をおかけし申し訳ございません。\n",
      "カスタマーサービスで確認のうえ対応させていただきますので、お手数ですが、こちらのリンクよりお問い合わせいただけますで… https://t.co/Msin3UeACF\n",
      "AmazonHelp: @SadistSophi We're terribly sorry to hear you're having an issue. However, we encourage not including personally id… https://t.co/5WS7U8XhmH\n",
      "AmazonHelp: @aniketgupta101 Also, please don’t provide your order/account details as we consider them to be personal informatio… https://t.co/8AV2HEM4FL\n",
      "AmazonHelp: @Diabolic_Hyun We're sorry to hear this. We want to ensure all goes well with your purchase. Please keep us posted… https://t.co/4kbRjL4lxh\n",
      "AmazonHelp: @sourabhbadola8 We're sorry for the trouble with the return of your order. Could you let us know the exact resoluti… https://t.co/uauE34ZcwX\n",
      "AmazonHelp: @jacky_jinJMCC ご返信ありがとうございます。お客様のご要望に添う形のご回答ができず申し訳ございません。\n",
      "今後ご満足いただけるサービスを提供できるよう、尽力して参ります。 - 小松\n",
      "AmazonHelp: @potef331 Amazon公式です。ご投稿を拝見いたしました。ご心配をおかけしております。\n",
      "お届け日時指定便をご利用いただいている状況でしょうか？\n",
      "よろしければ、該当のご注文商品の発送元（Amazonか出品者）、配送業者など… https://t.co/kfKs89C43v\n",
      "AmazonHelp: @Brigitt93563337 Without sharing any personal or account information, can you tell us which websites you use, .com,… https://t.co/hIC0rxAWIr\n",
      "AmazonHelp: @_clu 失礼いたします。Amazonです。お届けについてご迷惑をおかけしております。\n",
      "カスタマーサービスで詳細を確認いたしますので、お手数ですが以下のリンクより選択可能な方法でお問い合わせいただけますでしょうか。\n",
      "https://t.co/6wiLC1ew83 -岸\n",
      "AmazonHelp: @aniketgupta101 We apologize for the disappointment with regard to the cancellation of your order. This isn't inten… https://t.co/wbIQMp3HK6\n",
      "AmazonHelp: @PiyushR29234436 We understand your concern regarding delivery. We'd like to help you with this, please reach out t… https://t.co/PwYjgCtXud\n",
      "AmazonHelp: @tEKu39 ご返信ありがとうございます。かしこまりました。\n",
      "恐れ入りますが、どうぞよろしくお願いいたします。 -藤原\n",
      "AmazonHelp: @swiftsadprose You can use the link provided above, and follow these steps: \n",
      "1. Sign In \n",
      "2. Select 'Something Else'… https://t.co/5nHRazjMvE\n",
      "AmazonHelp: @Gosadhna Also, please don’t provide your order/account details as we consider them to be personal information. Our… https://t.co/yl0qTJxfSE\n",
      "AmazonHelp: @Gosadhna We'd like to help you with this, please reach out to us via DM. We will do our best to assist. Further, p… https://t.co/SGgluoW8G4\n",
      "AmazonHelp: @nadaraj_sooraj As you have reached out to Social Media team via chat, the issue was escalated to the concerned tea… https://t.co/MpBuyDJuxh\n",
      "AmazonHelp: @rn_1999123 ご返信いただきありがとうございます。改善したとのこと、承知いたしました。\n",
      "このたびは、ご視聴に際しご不便をおかけし申し訳ございませんでした。\n",
      "一般的なご案内となりますが、その他お困りの際にはご遠慮無くお知らせください。 漆原\n",
      "AmazonHelp: @AYUSH__AGRAWAL We get you're upset. We'd like to help you with this, please reach out to us via DM. We will do our… https://t.co/q8wMa1yiPz\n"
     ]
    }
   ],
   "source": [
    "##Get tweets from the personal timeline\n",
    "\n",
    "\n",
    "auth = tweepy.OAuthHandler(consumer_key, consumer_secret)\n",
    "auth.set_access_token(access_token, access_token_secret)\n",
    "\n",
    "api = tweepy.API(auth)\n",
    "\n",
    "target_screen_name = \"AmazonHelp\"\n",
    "\n",
    "\n",
    "timeline = api.user_timeline(screen_name=target_screen_name, count=20)\n",
    "for tweet in timeline:\n",
    "    print(f\"{tweet.user.screen_name}: {tweet.text}\")"
   ]
  },
  {
   "cell_type": "code",
   "execution_count": 40,
   "id": "f23983d5-7b45-47b2-96c1-db06a7a83b9a",
   "metadata": {
    "tags": []
   },
   "outputs": [],
   "source": [
    "#Search Query\n",
    "\n",
    "auth = tweepy.OAuthHandler(consumer_key, consumer_secret)\n",
    "auth.set_access_token(access_token, access_token_secret)\n",
    "\n",
    "# Create the API object\n",
    "api = tweepy.API(auth)\n",
    "\n",
    "# Set the search query\n",
    "query = 'AmazonHelp'\n",
    "\n",
    "# Retrieve tweets\n",
    "tweets = tweepy.Cursor(api.search_tweets, q=query, lang='en').items(200)\n",
    "\n",
    "# # Print the tweets\n",
    "# for tweet in tweets:\n",
    "#     print(tweet.text)\n",
    "\n",
    "# Create a list to store the tweet data\n",
    "tweet_data = []\n",
    "\n",
    "# Iterate over the retrieved tweets and store relevant data\n",
    "for tweet in tweets:\n",
    "    tweet_data.append([\n",
    "        tweet.id,\n",
    "        tweet.user.screen_name,\n",
    "        tweet.text\n",
    "    ])\n",
    "\n",
    "# Create a DataFrame from the tweet data\n",
    "df = pd.DataFrame(tweet_data, columns=[\"Tweet ID\", \"Username\", \"Text\"])\n",
    "\n",
    "# Save the DataFrame to a CSV file\n",
    "df.to_csv(\"search_results.csv\", index=False)\n"
   ]
  },
  {
   "cell_type": "code",
   "execution_count": 41,
   "id": "a82181d4-a020-448d-b1bf-d409a69d20c8",
   "metadata": {
    "tags": []
   },
   "outputs": [
    {
     "name": "stdout",
     "output_type": "stream",
     "text": [
      "                Tweet ID         Username   \n",
      "2    1658690865811058696    weprintonthat  \\\n",
      "7    1658690747825266690      jpawaninder   \n",
      "9    1658690530564530176  nibaofficial_13   \n",
      "12   1658690419629371392     MustLoveTea7   \n",
      "15   1658690147242901504      JosephRYE94   \n",
      "..                   ...              ...   \n",
      "190  1658669169322389504     PeachesNPork   \n",
      "191  1658669153199489024        Ujimondal   \n",
      "192  1658669107267420160      cofetalkapp   \n",
      "193  1658669006054891521         GaganTPL   \n",
      "196  1658668761975488513     4goldencarat   \n",
      "\n",
      "                                                  Text  \n",
      "2    @AmazonHelp Amazon packed well delivered fast ...  \n",
      "7    @AmazonHelp It’s not about the refund, it’s ab...  \n",
      "9    @amazonIN Hi @AmazonHelp i haven't received my...  \n",
      "12   @AmazonHelp Its now been 7 days and I still ha...  \n",
      "15   @AmazonHelp I use both the shopping app and th...  \n",
      "..                                                 ...  \n",
      "190  RT @hamesjalpert: @AmazonHelp no you don't get...  \n",
      "191  @AmazonHelp Yeh I can see how you are assistin...  \n",
      "192  RT @cofetalkapp: @AmazonHelp @AmitAgarwal @ama...  \n",
      "193  @AmazonHelp This is the message received on 05...  \n",
      "196  @AmazonHelp @amazon I been ordered my package ...  \n",
      "\n",
      "[72 rows x 3 columns]\n"
     ]
    }
   ],
   "source": [
    "\n",
    "# Filter rows that doesn't contain a specific string 'AmazonHelp' in the 'Username' column\n",
    "specific_string = 'AmazonHelp'\n",
    "filtered_df = df[~df['Username'].str.contains(specific_string)]\n",
    "\n",
    "print(filtered_df)\n",
    "# Save the filtered DataFrame to a CSV file\n",
    "filtered_df.to_csv(\"filtered_search_results.csv\", index=False)"
   ]
  },
  {
   "cell_type": "code",
   "execution_count": 42,
   "id": "44fc1c79-1132-4b67-a605-b67083f6a532",
   "metadata": {
    "tags": []
   },
   "outputs": [
    {
     "data": {
      "text/html": [
       "<div>\n",
       "<style scoped>\n",
       "    .dataframe tbody tr th:only-of-type {\n",
       "        vertical-align: middle;\n",
       "    }\n",
       "\n",
       "    .dataframe tbody tr th {\n",
       "        vertical-align: top;\n",
       "    }\n",
       "\n",
       "    .dataframe thead th {\n",
       "        text-align: right;\n",
       "    }\n",
       "</style>\n",
       "<table border=\"1\" class=\"dataframe\">\n",
       "  <thead>\n",
       "    <tr style=\"text-align: right;\">\n",
       "      <th></th>\n",
       "      <th>Tweet ID</th>\n",
       "      <th>Username</th>\n",
       "      <th>Text</th>\n",
       "    </tr>\n",
       "  </thead>\n",
       "  <tbody>\n",
       "    <tr>\n",
       "      <th>2</th>\n",
       "      <td>1658690865811058696</td>\n",
       "      <td>weprintonthat</td>\n",
       "      <td>@AmazonHelp Amazon packed well delivered fast ...</td>\n",
       "    </tr>\n",
       "    <tr>\n",
       "      <th>7</th>\n",
       "      <td>1658690747825266690</td>\n",
       "      <td>jpawaninder</td>\n",
       "      <td>@AmazonHelp It’s not about the refund, it’s ab...</td>\n",
       "    </tr>\n",
       "    <tr>\n",
       "      <th>9</th>\n",
       "      <td>1658690530564530176</td>\n",
       "      <td>nibaofficial_13</td>\n",
       "      <td>@amazonIN Hi @AmazonHelp i haven't received my...</td>\n",
       "    </tr>\n",
       "    <tr>\n",
       "      <th>12</th>\n",
       "      <td>1658690419629371392</td>\n",
       "      <td>MustLoveTea7</td>\n",
       "      <td>@AmazonHelp Its now been 7 days and I still ha...</td>\n",
       "    </tr>\n",
       "    <tr>\n",
       "      <th>15</th>\n",
       "      <td>1658690147242901504</td>\n",
       "      <td>JosephRYE94</td>\n",
       "      <td>@AmazonHelp I use both the shopping app and th...</td>\n",
       "    </tr>\n",
       "  </tbody>\n",
       "</table>\n",
       "</div>"
      ],
      "text/plain": [
       "               Tweet ID         Username   \n",
       "2   1658690865811058696    weprintonthat  \\\n",
       "7   1658690747825266690      jpawaninder   \n",
       "9   1658690530564530176  nibaofficial_13   \n",
       "12  1658690419629371392     MustLoveTea7   \n",
       "15  1658690147242901504      JosephRYE94   \n",
       "\n",
       "                                                 Text  \n",
       "2   @AmazonHelp Amazon packed well delivered fast ...  \n",
       "7   @AmazonHelp It’s not about the refund, it’s ab...  \n",
       "9   @amazonIN Hi @AmazonHelp i haven't received my...  \n",
       "12  @AmazonHelp Its now been 7 days and I still ha...  \n",
       "15  @AmazonHelp I use both the shopping app and th...  "
      ]
     },
     "execution_count": 42,
     "metadata": {},
     "output_type": "execute_result"
    }
   ],
   "source": [
    "filtered_df.head()"
   ]
  },
  {
   "cell_type": "code",
   "execution_count": 25,
   "id": "a486f964-43d4-45fb-8322-8d0eebb954e4",
   "metadata": {
    "tags": []
   },
   "outputs": [],
   "source": [
    "##Retrieve Tweets Main\n",
    "\n",
    "# Authenticate to Twitter\n",
    "auth = tweepy.OAuthHandler(consumer_key, consumer_secret)\n",
    "auth.set_access_token(access_token, access_token_secret)\n",
    "\n",
    "# Create API object\n",
    "api = tweepy.API(auth)\n",
    "\n",
    "# User screen name or user ID\n",
    "screen_name = 'AmazonHelp'\n",
    "\n"
   ]
  },
  {
   "cell_type": "code",
   "execution_count": 26,
   "id": "666e6d17-1dbb-4f67-a0b7-a8086674c980",
   "metadata": {
    "tags": []
   },
   "outputs": [
    {
     "name": "stdout",
     "output_type": "stream",
     "text": [
      "@safaa_dawood بيتم ارسال ايميل موضح فيه سبب الالغاء، ممكن نتواصل وقتها مع خدمة العملاء، و هيتم حل الاشكالية. \n",
      "\n",
      "- احمد\n",
      "---\n",
      "@SteelCity_Burg We're so sorry to hear about this experience! Just to clarify, have you had a chance to contact us… https://t.co/HmLYni1ATo\n",
      "---\n",
      "@Amandee54377118 Please follow our Twitter handle so that we can continue to support over DM.\n",
      " -Mohammed\n",
      "---\n",
      "@darktodash Thank you for your feedback, we really appreciate it. We apologize for any inconvenience. We hope you have a good day. -Rose\n",
      "---\n",
      "@kklappco We were able to locate your details. Thank you for confirming for us. Please keep an eye on your e-mails for any updates. -Erin\n",
      "---\n",
      "@wedoforgive Thanks for the update! We're glad to hear it's working for you now. -Dustin\n",
      "---\n",
      "@AndressaHerrera Sugerimos entrar em contato conosco pelo chat ou telefone para verificar o ocorrido: https://t.co/qGpkDwGRhX. -Nan\n",
      "---\n",
      "@0217py Amazon公式です。\n",
      "ご心配をおかけしております。商品が未発送の場合、出荷準備にお時間をいただいている可能性がございます。Twitter上では詳細をお調べできないのですが、進捗があり次第AmazonよりEメールで… https://t.co/BflqpN24ZV\n",
      "---\n",
      "@weprintonthat Hello! You can find all available refund and replacement options for your order here: https://t.co/sa4jRlMZzs. -Rose\n",
      "---\n",
      "@baaabyarmy  We'd like to take a closer look at this with you. Since we don't have account access via social media… https://t.co/5cpkrNsQDi\n",
      "---\n",
      "@wavveswork Hey there! Glad to hear it was resolved. Please don't hesitate to reach out in the future if we can be… https://t.co/0bvePyVz6u\n",
      "---\n",
      "@HIMA_uchinoLION Amazonをご利用いただきありがとうございます。\n",
      "気に入っていただけましたら幸いです📦😺✨\n",
      "百井\n",
      "---\n",
      "@Mumalmumal13463 We'd like to help you with this, please reach out to us via DM. We will do our best to assist. \n",
      "\n",
      "-… https://t.co/5nvBKrz0KJ\n",
      "---\n",
      "@Vanilda1010 Compreendo. Lamentamos os inconvenientes. Neste caso, sugiro que entre em contato com o nosso Suporte… https://t.co/I1P3FxvFtG\n",
      "---\n",
      "@Caracolcienta ¡Hola! Sentimos la situación. ¿Puedes indicarnos si el sistema te muestra algún código o leyenda de… https://t.co/0pCa4DxT6T\n",
      "---\n",
      "@chickendream235 ご返信をいただき、ありがとうございます。\n",
      "詳細をお送りいただいたなか、大変恐れ入りますが、その場合はお手続きをいただいた事業者様へ状況確認のご相談を検討いただけないでしょうか。阿部\n",
      "---\n",
      "@matt_sears Thank you for sharing your thoughts, and we're sorry for any frustration. We appreciate your feedback,… https://t.co/PKGaJHFT9c\n",
      "---\n",
      "@akino_twi ご返信ありがとうございます。お手数をおかけしました。\n",
      "また、その他お困りごと等ございましたら、いつでもお声がけください。 - 小松\n",
      "---\n",
      "@massy_o  Amazon公式です。ご不快の念をおかけしております。\n",
      "よろしければこちらのヘルプページをご参照いただき、ページ内「梱包に関するご意見はこちら。」から梱包に関するご意見やご要望をカスタマーサービスへお寄せいただ… https://t.co/avRFs7XscU\n",
      "---\n",
      "@Amandee54377118 We’re sorry, we're unable to respond via DM. You can follow our Twitter handle so that we can cont… https://t.co/eLHaGZybjV\n",
      "---\n"
     ]
    }
   ],
   "source": [
    "\n",
    "# Process retrieved tweets\n",
    "\n",
    "tweets2 = api.user_timeline(screen_name=screen_name, count=20, include_rts=False)  # Change the count as per your requirement\n",
    "\n",
    "for tweet in tweets2:\n",
    "    print(tweet.text)\n",
    "    print('---')"
   ]
  },
  {
   "cell_type": "code",
   "execution_count": 27,
   "id": "6f00686f-77b2-4dbc-9390-716d1d36e35a",
   "metadata": {
    "tags": []
   },
   "outputs": [],
   "source": [
    "\n",
    "# Retrieve tweets & write to df\n",
    "tweets = api.user_timeline(screen_name=screen_name, count=20, include_rts=False, tweet_mode='extended')  # Change the count as per your requirement\n",
    "\n",
    "\n",
    "tweet_list=[]\n",
    "for tweet in tweets:\n",
    "    text=tweet._json[\"full_text\"]\n",
    "    refined_tweet={\"user\":tweet.user.screen_name,\n",
    "                   'text':text,\n",
    "                   'favorite_count':tweet.favorite_count,\n",
    "                   'retweet_count':tweet.retweet_count,\n",
    "                   'created_at':tweet.created_at}\n",
    "    tweet_list.append(refined_tweet)\n",
    "    \n",
    "df=pd.DataFrame(tweet_list)\n",
    "df.to_csv(\"fetched_twitter_data.csv\")"
   ]
  },
  {
   "cell_type": "code",
   "execution_count": null,
   "id": "09aca7be-537a-4ad2-a418-e256729ba307",
   "metadata": {
    "tags": []
   },
   "outputs": [],
   "source": [
    "!pip install apache-airflow"
   ]
  },
  {
   "cell_type": "code",
   "execution_count": 28,
   "id": "12530a59-1701-4db4-ab4f-e808a3f4c557",
   "metadata": {
    "tags": []
   },
   "outputs": [
    {
     "data": {
      "text/html": [
       "<div>\n",
       "<style scoped>\n",
       "    .dataframe tbody tr th:only-of-type {\n",
       "        vertical-align: middle;\n",
       "    }\n",
       "\n",
       "    .dataframe tbody tr th {\n",
       "        vertical-align: top;\n",
       "    }\n",
       "\n",
       "    .dataframe thead th {\n",
       "        text-align: right;\n",
       "    }\n",
       "</style>\n",
       "<table border=\"1\" class=\"dataframe\">\n",
       "  <thead>\n",
       "    <tr style=\"text-align: right;\">\n",
       "      <th></th>\n",
       "      <th>user</th>\n",
       "      <th>text</th>\n",
       "      <th>favorite_count</th>\n",
       "      <th>retweet_count</th>\n",
       "      <th>created_at</th>\n",
       "    </tr>\n",
       "  </thead>\n",
       "  <tbody>\n",
       "    <tr>\n",
       "      <th>0</th>\n",
       "      <td>AmazonHelp</td>\n",
       "      <td>@safaa_dawood بيتم ارسال ايميل موضح فيه سبب ال...</td>\n",
       "      <td>0</td>\n",
       "      <td>0</td>\n",
       "      <td>2023-05-17 01:20:49+00:00</td>\n",
       "    </tr>\n",
       "    <tr>\n",
       "      <th>1</th>\n",
       "      <td>AmazonHelp</td>\n",
       "      <td>@SteelCity_Burg We're so sorry to hear about t...</td>\n",
       "      <td>0</td>\n",
       "      <td>0</td>\n",
       "      <td>2023-05-17 01:20:44+00:00</td>\n",
       "    </tr>\n",
       "    <tr>\n",
       "      <th>2</th>\n",
       "      <td>AmazonHelp</td>\n",
       "      <td>@Amandee54377118 Please follow our Twitter han...</td>\n",
       "      <td>0</td>\n",
       "      <td>0</td>\n",
       "      <td>2023-05-17 01:20:11+00:00</td>\n",
       "    </tr>\n",
       "    <tr>\n",
       "      <th>3</th>\n",
       "      <td>AmazonHelp</td>\n",
       "      <td>@darktodash Thank you for your feedback, we re...</td>\n",
       "      <td>0</td>\n",
       "      <td>0</td>\n",
       "      <td>2023-05-17 01:19:57+00:00</td>\n",
       "    </tr>\n",
       "    <tr>\n",
       "      <th>4</th>\n",
       "      <td>AmazonHelp</td>\n",
       "      <td>@kklappco We were able to locate your details....</td>\n",
       "      <td>0</td>\n",
       "      <td>0</td>\n",
       "      <td>2023-05-17 01:19:11+00:00</td>\n",
       "    </tr>\n",
       "    <tr>\n",
       "      <th>5</th>\n",
       "      <td>AmazonHelp</td>\n",
       "      <td>@wedoforgive Thanks for the update! We're glad...</td>\n",
       "      <td>0</td>\n",
       "      <td>0</td>\n",
       "      <td>2023-05-17 01:19:05+00:00</td>\n",
       "    </tr>\n",
       "    <tr>\n",
       "      <th>6</th>\n",
       "      <td>AmazonHelp</td>\n",
       "      <td>@AndressaHerrera Sugerimos entrar em contato c...</td>\n",
       "      <td>0</td>\n",
       "      <td>0</td>\n",
       "      <td>2023-05-17 01:19:00+00:00</td>\n",
       "    </tr>\n",
       "    <tr>\n",
       "      <th>7</th>\n",
       "      <td>AmazonHelp</td>\n",
       "      <td>@0217py Amazon公式です。\\nご心配をおかけしております。商品が未発送の場合、出...</td>\n",
       "      <td>0</td>\n",
       "      <td>0</td>\n",
       "      <td>2023-05-17 01:18:51+00:00</td>\n",
       "    </tr>\n",
       "    <tr>\n",
       "      <th>8</th>\n",
       "      <td>AmazonHelp</td>\n",
       "      <td>@weprintonthat Hello! You can find all availab...</td>\n",
       "      <td>0</td>\n",
       "      <td>0</td>\n",
       "      <td>2023-05-17 01:18:24+00:00</td>\n",
       "    </tr>\n",
       "    <tr>\n",
       "      <th>9</th>\n",
       "      <td>AmazonHelp</td>\n",
       "      <td>@baaabyarmy  We'd like to take a closer look a...</td>\n",
       "      <td>0</td>\n",
       "      <td>0</td>\n",
       "      <td>2023-05-17 01:18:04+00:00</td>\n",
       "    </tr>\n",
       "    <tr>\n",
       "      <th>10</th>\n",
       "      <td>AmazonHelp</td>\n",
       "      <td>@wavveswork Hey there! Glad to hear it was res...</td>\n",
       "      <td>0</td>\n",
       "      <td>0</td>\n",
       "      <td>2023-05-17 01:18:00+00:00</td>\n",
       "    </tr>\n",
       "    <tr>\n",
       "      <th>11</th>\n",
       "      <td>AmazonHelp</td>\n",
       "      <td>@HIMA_uchinoLION Amazonをご利用いただきありがとうございます。\\n気に...</td>\n",
       "      <td>0</td>\n",
       "      <td>0</td>\n",
       "      <td>2023-05-17 01:17:16+00:00</td>\n",
       "    </tr>\n",
       "    <tr>\n",
       "      <th>12</th>\n",
       "      <td>AmazonHelp</td>\n",
       "      <td>@Mumalmumal13463 We'd like to help you with th...</td>\n",
       "      <td>0</td>\n",
       "      <td>0</td>\n",
       "      <td>2023-05-17 01:16:42+00:00</td>\n",
       "    </tr>\n",
       "    <tr>\n",
       "      <th>13</th>\n",
       "      <td>AmazonHelp</td>\n",
       "      <td>@Vanilda1010 Compreendo. Lamentamos os inconve...</td>\n",
       "      <td>0</td>\n",
       "      <td>0</td>\n",
       "      <td>2023-05-17 01:16:32+00:00</td>\n",
       "    </tr>\n",
       "    <tr>\n",
       "      <th>14</th>\n",
       "      <td>AmazonHelp</td>\n",
       "      <td>@Caracolcienta ¡Hola! Sentimos la situación. ¿...</td>\n",
       "      <td>0</td>\n",
       "      <td>0</td>\n",
       "      <td>2023-05-17 01:16:25+00:00</td>\n",
       "    </tr>\n",
       "    <tr>\n",
       "      <th>15</th>\n",
       "      <td>AmazonHelp</td>\n",
       "      <td>@chickendream235 ご返信をいただき、ありがとうございます。\\n詳細をお送りい...</td>\n",
       "      <td>1</td>\n",
       "      <td>0</td>\n",
       "      <td>2023-05-17 01:14:54+00:00</td>\n",
       "    </tr>\n",
       "    <tr>\n",
       "      <th>16</th>\n",
       "      <td>AmazonHelp</td>\n",
       "      <td>@matt_sears Thank you for sharing your thought...</td>\n",
       "      <td>0</td>\n",
       "      <td>0</td>\n",
       "      <td>2023-05-17 01:13:32+00:00</td>\n",
       "    </tr>\n",
       "    <tr>\n",
       "      <th>17</th>\n",
       "      <td>AmazonHelp</td>\n",
       "      <td>@akino_twi ご返信ありがとうございます。お手数をおかけしました。\\nまた、その他お...</td>\n",
       "      <td>0</td>\n",
       "      <td>0</td>\n",
       "      <td>2023-05-17 01:12:52+00:00</td>\n",
       "    </tr>\n",
       "    <tr>\n",
       "      <th>18</th>\n",
       "      <td>AmazonHelp</td>\n",
       "      <td>@massy_o  Amazon公式です。ご不快の念をおかけしております。\\nよろしければこ...</td>\n",
       "      <td>1</td>\n",
       "      <td>0</td>\n",
       "      <td>2023-05-17 01:12:24+00:00</td>\n",
       "    </tr>\n",
       "    <tr>\n",
       "      <th>19</th>\n",
       "      <td>AmazonHelp</td>\n",
       "      <td>@Amandee54377118 We’re sorry, we're unable to ...</td>\n",
       "      <td>0</td>\n",
       "      <td>0</td>\n",
       "      <td>2023-05-17 01:12:17+00:00</td>\n",
       "    </tr>\n",
       "  </tbody>\n",
       "</table>\n",
       "</div>"
      ],
      "text/plain": [
       "          user                                               text   \n",
       "0   AmazonHelp  @safaa_dawood بيتم ارسال ايميل موضح فيه سبب ال...  \\\n",
       "1   AmazonHelp  @SteelCity_Burg We're so sorry to hear about t...   \n",
       "2   AmazonHelp  @Amandee54377118 Please follow our Twitter han...   \n",
       "3   AmazonHelp  @darktodash Thank you for your feedback, we re...   \n",
       "4   AmazonHelp  @kklappco We were able to locate your details....   \n",
       "5   AmazonHelp  @wedoforgive Thanks for the update! We're glad...   \n",
       "6   AmazonHelp  @AndressaHerrera Sugerimos entrar em contato c...   \n",
       "7   AmazonHelp  @0217py Amazon公式です。\\nご心配をおかけしております。商品が未発送の場合、出...   \n",
       "8   AmazonHelp  @weprintonthat Hello! You can find all availab...   \n",
       "9   AmazonHelp  @baaabyarmy  We'd like to take a closer look a...   \n",
       "10  AmazonHelp  @wavveswork Hey there! Glad to hear it was res...   \n",
       "11  AmazonHelp  @HIMA_uchinoLION Amazonをご利用いただきありがとうございます。\\n気に...   \n",
       "12  AmazonHelp  @Mumalmumal13463 We'd like to help you with th...   \n",
       "13  AmazonHelp  @Vanilda1010 Compreendo. Lamentamos os inconve...   \n",
       "14  AmazonHelp  @Caracolcienta ¡Hola! Sentimos la situación. ¿...   \n",
       "15  AmazonHelp  @chickendream235 ご返信をいただき、ありがとうございます。\\n詳細をお送りい...   \n",
       "16  AmazonHelp  @matt_sears Thank you for sharing your thought...   \n",
       "17  AmazonHelp  @akino_twi ご返信ありがとうございます。お手数をおかけしました。\\nまた、その他お...   \n",
       "18  AmazonHelp  @massy_o  Amazon公式です。ご不快の念をおかけしております。\\nよろしければこ...   \n",
       "19  AmazonHelp  @Amandee54377118 We’re sorry, we're unable to ...   \n",
       "\n",
       "    favorite_count  retweet_count                created_at  \n",
       "0                0              0 2023-05-17 01:20:49+00:00  \n",
       "1                0              0 2023-05-17 01:20:44+00:00  \n",
       "2                0              0 2023-05-17 01:20:11+00:00  \n",
       "3                0              0 2023-05-17 01:19:57+00:00  \n",
       "4                0              0 2023-05-17 01:19:11+00:00  \n",
       "5                0              0 2023-05-17 01:19:05+00:00  \n",
       "6                0              0 2023-05-17 01:19:00+00:00  \n",
       "7                0              0 2023-05-17 01:18:51+00:00  \n",
       "8                0              0 2023-05-17 01:18:24+00:00  \n",
       "9                0              0 2023-05-17 01:18:04+00:00  \n",
       "10               0              0 2023-05-17 01:18:00+00:00  \n",
       "11               0              0 2023-05-17 01:17:16+00:00  \n",
       "12               0              0 2023-05-17 01:16:42+00:00  \n",
       "13               0              0 2023-05-17 01:16:32+00:00  \n",
       "14               0              0 2023-05-17 01:16:25+00:00  \n",
       "15               1              0 2023-05-17 01:14:54+00:00  \n",
       "16               0              0 2023-05-17 01:13:32+00:00  \n",
       "17               0              0 2023-05-17 01:12:52+00:00  \n",
       "18               1              0 2023-05-17 01:12:24+00:00  \n",
       "19               0              0 2023-05-17 01:12:17+00:00  "
      ]
     },
     "execution_count": 28,
     "metadata": {},
     "output_type": "execute_result"
    }
   ],
   "source": [
    "df"
   ]
  },
  {
   "cell_type": "code",
   "execution_count": null,
   "id": "d9280415-25ed-4f29-8034-4f274d9ea853",
   "metadata": {},
   "outputs": [],
   "source": []
  }
 ],
 "metadata": {
  "kernelspec": {
   "display_name": "Python 3 (ipykernel)",
   "language": "python",
   "name": "python3"
  },
  "language_info": {
   "codemirror_mode": {
    "name": "ipython",
    "version": 3
   },
   "file_extension": ".py",
   "mimetype": "text/x-python",
   "name": "python",
   "nbconvert_exporter": "python",
   "pygments_lexer": "ipython3",
   "version": "3.10.11"
  }
 },
 "nbformat": 4,
 "nbformat_minor": 5
}
